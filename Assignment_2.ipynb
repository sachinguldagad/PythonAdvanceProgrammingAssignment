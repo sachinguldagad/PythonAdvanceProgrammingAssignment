{
 "cells": [
  {
   "cell_type": "markdown",
   "id": "fe2d1fe7",
   "metadata": {},
   "source": [
    "# 1. Write a function that takes a positive integer num and calculates how many dots exist in a pentagonal shape around the center dot on the Nth iteration.\n",
    "\n",
    "In the image below you can see the first iteration is only a single dot. On the second, there are 6 dots. On the third, there are 16 dots, and on the fourth there are 31 dots.\n",
    "\n",
    "\n",
    "\n",
    "\n",
    "\n",
    "\n",
    "\n",
    "\n",
    "Return the number of dots that exist in the whole pentagon on the Nth iteration.\n",
    "\n",
    "Examples\n",
    "\n",
    "pentagonal(1) ➞ 1\n",
    "\n",
    "pentagonal(2) ➞ 6\n",
    "\n",
    "pentagonal(3) ➞ 16\n",
    "\n",
    "pentagonal(8) ➞ 141\n",
    "\n",
    "\n",
    "\n"
   ]
  },
  {
   "cell_type": "code",
   "execution_count": 1,
   "id": "b775a3cb",
   "metadata": {},
   "outputs": [],
   "source": [
    "def pentagonal(n): \n",
    "    # Formula to calculate nth Centered pentagonal number.     \n",
    "    return (5 * n * n - 5 * n + 2) // 2"
   ]
  },
  {
   "cell_type": "code",
   "execution_count": 2,
   "id": "70fe1a2b",
   "metadata": {},
   "outputs": [
    {
     "data": {
      "text/plain": [
       "141"
      ]
     },
     "execution_count": 2,
     "metadata": {},
     "output_type": "execute_result"
    }
   ],
   "source": [
    "pentagonal(8)"
   ]
  },
  {
   "cell_type": "code",
   "execution_count": 3,
   "id": "2b1dda6f",
   "metadata": {},
   "outputs": [
    {
     "data": {
      "text/plain": [
       "16"
      ]
     },
     "execution_count": 3,
     "metadata": {},
     "output_type": "execute_result"
    }
   ],
   "source": [
    "pentagonal(3) "
   ]
  },
  {
   "cell_type": "markdown",
   "id": "079b9dd7",
   "metadata": {},
   "source": [
    "# 2.  Make a function that encrypts a given input with these steps:\n",
    "\n",
    "Input: \"apple\"\n",
    "\n",
    "Step 1: Reverse the input: \"elppa\"\n",
    "\n",
    "Step 2: Replace all vowels using the following chart:\n",
    "\n",
    "a => 0\n",
    "e => 1\n",
    "i => 2\n",
    "o => 2\n",
    "u => 3\n",
    "\n",
    "# \"1lpp0\"\n",
    "\n",
    "Step 3: Add \"aca\" to the end of the word: \"1lpp0aca\"\n",
    "\n",
    "Output: \"1lpp0aca\"\n",
    "\n",
    "Examples\n",
    "\n",
    "encrypt(\"banana\") ➞ \"0n0n0baca\"\n",
    "\n",
    "encrypt(\"karaca\") ➞ \"0c0r0kaca\"\n",
    "\n",
    "encrypt(\"burak\") ➞ \"k0r3baca\"\n",
    "\n",
    "encrypt(\"alpaca\") ➞ \"0c0pl0aca\"\n",
    "\n"
   ]
  },
  {
   "cell_type": "code",
   "execution_count": 4,
   "id": "0825227d",
   "metadata": {},
   "outputs": [],
   "source": [
    "def encrypt(string):\n",
    "    vowels_replacement={'a':0,'e':1,'i':2,'o':2,'u':3}\n",
    "    reverse=string[::-1]\n",
    "    encoded=[]\n",
    "    for i in reverse:\n",
    "        if i in vowels_replacement:\n",
    "            encoded.append(str(vowels_replacement[i]))\n",
    "        else:\n",
    "            encoded.append(i)\n",
    "    print(''.join(encoded)+'aca')"
   ]
  },
  {
   "cell_type": "code",
   "execution_count": 5,
   "id": "57b930e1",
   "metadata": {},
   "outputs": [
    {
     "name": "stdout",
     "output_type": "stream",
     "text": [
      "0c0pl0aca\n"
     ]
    }
   ],
   "source": [
    "encrypt(\"alpaca\")"
   ]
  },
  {
   "cell_type": "code",
   "execution_count": 6,
   "id": "edb5c728",
   "metadata": {},
   "outputs": [
    {
     "name": "stdout",
     "output_type": "stream",
     "text": [
      "k0r3baca\n"
     ]
    }
   ],
   "source": [
    "encrypt(\"burak\")"
   ]
  },
  {
   "cell_type": "code",
   "execution_count": 7,
   "id": "73360a5e",
   "metadata": {},
   "outputs": [
    {
     "name": "stdout",
     "output_type": "stream",
     "text": [
      "0c0r0kaca\n"
     ]
    }
   ],
   "source": [
    "encrypt(\"karaca\")"
   ]
  },
  {
   "cell_type": "markdown",
   "id": "4525fd7a",
   "metadata": {},
   "source": [
    "# 3. Given the month and year as numbers, return whether that month contains a Friday 13th.(i.e You can check Python's datetime module)\n",
    "\n",
    "Examples\n",
    "\n",
    "has_friday_13(3, 2020) ➞ True\n",
    "\n",
    "has_friday_13(10, 2017) ➞ True\n",
    "\n",
    "has_friday_13(1, 1985) ➞ False\n",
    "\n"
   ]
  },
  {
   "cell_type": "code",
   "execution_count": 8,
   "id": "7f0cd1bf",
   "metadata": {},
   "outputs": [],
   "source": [
    "import datetime \n",
    "def has_friday_13(month,year):\n",
    "    return(True if datetime.datetime.strptime('13 '+' '+str(month)+' '+str(year), '%d %m %Y').weekday()==4 else False) "
   ]
  },
  {
   "cell_type": "code",
   "execution_count": 9,
   "id": "51bb9c32",
   "metadata": {},
   "outputs": [
    {
     "data": {
      "text/plain": [
       "True"
      ]
     },
     "execution_count": 9,
     "metadata": {},
     "output_type": "execute_result"
    }
   ],
   "source": [
    "has_friday_13(3, 2020)"
   ]
  },
  {
   "cell_type": "code",
   "execution_count": 10,
   "id": "c0b9218a",
   "metadata": {},
   "outputs": [
    {
     "data": {
      "text/plain": [
       "False"
      ]
     },
     "execution_count": 10,
     "metadata": {},
     "output_type": "execute_result"
    }
   ],
   "source": [
    "has_friday_13(1, 1985)"
   ]
  },
  {
   "cell_type": "markdown",
   "id": "c863ac8e",
   "metadata": {},
   "source": [
    "# 4. Write a regular expression that will help us count how many bad cookies are produced every day. You must use RegEx negative lookbehind.\n",
    "\n",
    "Example\n",
    "\n",
    "lst = [\"bad cookie\", \"good cookie\", \"bad cookie\", \"good cookie\", \"good cookie\"]\n",
    "pattern = \"yourregularexpressionhere\"\n",
    "\n",
    "len(re.findall(pattern, \", \".join(lst))) ➞ 2\n",
    "\n"
   ]
  },
  {
   "cell_type": "code",
   "execution_count": 11,
   "id": "bc3c2cba",
   "metadata": {},
   "outputs": [
    {
     "data": {
      "text/plain": [
       "2"
      ]
     },
     "execution_count": 11,
     "metadata": {},
     "output_type": "execute_result"
    }
   ],
   "source": [
    "import re\n",
    "lst = ['bad cookie', 'good cookie', 'bad cookie', 'good cookie', 'good cookie']\n",
    "pattern = 'bad\\s\\w'\n",
    "len(re.findall(pattern, ', '.join(lst)))"
   ]
  },
  {
   "cell_type": "markdown",
   "id": "7358d3bc",
   "metadata": {},
   "source": [
    "# 5. Given a list of words in the singular form, return a set of those words in the plural form if they appear more than once in the list.\n",
    "\n",
    "Examples\n",
    "\n",
    "pluralize([\"cow\", \"pig\", \"cow\", \"cow\"]) ➞ { \"cows\", \"pig\" }\n",
    "\n",
    "pluralize([\"table\", \"table\", \"table\"]) ➞ { \"tables\" }\n",
    "\n",
    "pluralize([\"chair\", \"pencil\", \"arm\"]) ➞ { \"chair\", \"pencil\", \"arm\" }\n",
    "\n"
   ]
  },
  {
   "cell_type": "code",
   "execution_count": 15,
   "id": "e8791817",
   "metadata": {},
   "outputs": [
    {
     "name": "stdout",
     "output_type": "stream",
     "text": [
      "The List : ['chair', 'pencil', 'arm']\n"
     ]
    },
    {
     "data": {
      "text/plain": [
       "{'arm', 'chair', 'pencil'}"
      ]
     },
     "execution_count": 15,
     "metadata": {},
     "output_type": "execute_result"
    }
   ],
   "source": [
    "pluralize([\"chair\", \"pencil\", \"arm\"])\n"
   ]
  },
  {
   "cell_type": "code",
   "execution_count": 12,
   "id": "8ff52c3b",
   "metadata": {},
   "outputs": [],
   "source": [
    "def pluralize(lst):\n",
    "    ls = []\n",
    "    print(\"The List :\",lst)\n",
    "    for i in lst:\n",
    "        if lst.count(i) > 1:\n",
    "            ls.append(i + 's')\n",
    "        else:\n",
    "            ls.append(i)\n",
    "    return set(ls)"
   ]
  },
  {
   "cell_type": "code",
   "execution_count": 13,
   "id": "c2f17b25",
   "metadata": {},
   "outputs": [
    {
     "name": "stdout",
     "output_type": "stream",
     "text": [
      "The List : ['cow', 'pig', 'cow', 'cow']\n"
     ]
    },
    {
     "data": {
      "text/plain": [
       "{'cows', 'pig'}"
      ]
     },
     "execution_count": 13,
     "metadata": {},
     "output_type": "execute_result"
    }
   ],
   "source": [
    "pluralize([\"cow\", \"pig\", \"cow\", \"cow\"])"
   ]
  },
  {
   "cell_type": "code",
   "execution_count": 14,
   "id": "e01f3381",
   "metadata": {},
   "outputs": [
    {
     "name": "stdout",
     "output_type": "stream",
     "text": [
      "The List : ['table', 'table', 'table']\n"
     ]
    },
    {
     "data": {
      "text/plain": [
       "{'tables'}"
      ]
     },
     "execution_count": 14,
     "metadata": {},
     "output_type": "execute_result"
    }
   ],
   "source": [
    "pluralize([\"table\", \"table\", \"table\"])"
   ]
  },
  {
   "cell_type": "code",
   "execution_count": null,
   "id": "711b98bc",
   "metadata": {},
   "outputs": [],
   "source": []
  }
 ],
 "metadata": {
  "kernelspec": {
   "display_name": "Python 3 (ipykernel)",
   "language": "python",
   "name": "python3"
  },
  "language_info": {
   "codemirror_mode": {
    "name": "ipython",
    "version": 3
   },
   "file_extension": ".py",
   "mimetype": "text/x-python",
   "name": "python",
   "nbconvert_exporter": "python",
   "pygments_lexer": "ipython3",
   "version": "3.9.7"
  }
 },
 "nbformat": 4,
 "nbformat_minor": 5
}
