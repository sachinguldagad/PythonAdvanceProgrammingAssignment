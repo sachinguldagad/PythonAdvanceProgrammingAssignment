{
  "nbformat": 4,
  "nbformat_minor": 0,
  "metadata": {
    "colab": {
      "name": "assignment_8_solution.ipynb",
      "provenance": [],
      "collapsed_sections": []
    },
    "kernelspec": {
      "name": "python3",
      "display_name": "Python 3"
    },
    "language_info": {
      "name": "python"
    }
  },
  "cells": [
    {
      "cell_type": "markdown",
      "source": [
        "Q 1. Given a sentence as txt, return True if any two adjacent words have this property: One word ends with a vowel, while the word immediately after begins with a vowel (a e i o u).\n",
        "\n",
        "Examples\n",
        "\n",
        "vowel_links(\"a very large appliance\") ➞ True\n",
        "\n",
        "vowel_links(\"go to edabit\") ➞ True\n",
        "\n",
        "vowel_links(\"an open fire\") ➞ False\n",
        "\n",
        "vowel_links(\"a sudden applause\") ➞ False\n"
      ],
      "metadata": {
        "id": "6vuapvlhNTzH"
      }
    },
    {
      "cell_type": "code",
      "execution_count": null,
      "metadata": {
        "id": "kXYjc07bNTCV"
      },
      "outputs": [],
      "source": [
        "def vowel_links(txt):   \n",
        "\n",
        "    vowel = 'aeiou'                        # check the vowels\n",
        "    lst = txt.split(\" \")                   # split the texts in the list\n",
        "\n",
        "    found = False                          # lets set we have not met the condition\n",
        "    i = 0\n",
        "    j = 0\n",
        "    while i < len(lst)-1:                  # loops through the list elements\n",
        "        j = i + 1    \n",
        "        vl = lst[i][-1]\n",
        "        vf = lst[j][0]\n",
        "        if vl in vowel and vf in vowel:     # if last letter ends with vowel and first letter stats with vowel and adjacent words\n",
        "            found = True\n",
        "        i += 1\n",
        "        j += 1\n",
        "    return found\n",
        "  \n",
        "# vowel_links('a very large appliance')\n",
        "\n",
        "# True\n",
        "\n",
        "# vowel_links(\"go to edabit\")\n",
        "\n",
        "# True\n",
        "\n",
        "#vowel_links('an open fire')\n",
        "\n",
        "# False\n",
        "\n",
        "# vowel_links('a sudden applause')\n",
        "\n",
        "# False\n"
      ]
    },
    {
      "cell_type": "markdown",
      "source": [
        "Q2 You are given three inputs: a string, one letter, and a second letter.\n",
        "\n",
        "Write a function that returns True if every instance of the first letter occurs before every instance of the second letter.\n",
        "\n",
        "Examples\n",
        "\n",
        "first_before_second(\"a rabbit jumps joyfully\", \"a\", \"j\") ➞ True\n",
        "# Every instance of \"a\" occurs before every instance of \"j\".\n",
        "\n",
        "first_before_second(\"knaves knew about waterfalls\", \"k\", \"w\") ➞  True\n",
        "\n",
        "first_before_second(\"happy birthday\", \"a\", \"y\") ➞ False\n",
        "# The \"a\" in \"birthday\" occurs after the \"y\" in \"happy\".\n",
        "\n",
        "first_before_second(\"precarious kangaroos\", \"k\", \"a\") ➞ False"
      ],
      "metadata": {
        "id": "VJaMs-67Kzis"
      }
    },
    {
      "cell_type": "code",
      "source": [
        "def findIdx(text,s):\n",
        "    lst= []\n",
        "    for i in range(len(text)):\n",
        "        if (text[i] == s):\n",
        "            lst.append(i)\n",
        "    return lst\n",
        "\n",
        "def findidxDiff(list1,list2):\n",
        "    found = False\n",
        "    for i in list1:\n",
        "        for j in list2:\n",
        "            if i < j :\n",
        "                found = True\n",
        "            else:\n",
        "                found = False\n",
        "                break\n",
        "    return found\n",
        "\n",
        "\n",
        "def first_before_second(text,ch1,ch2):\n",
        "    idxCh1 = findIdx(text,ch1)\n",
        "    idxCh2 = findIdx(text,ch2)\n",
        "    print(\"Indexs of first letter {} is/are {}: \".format(ch1,idxCh1))\n",
        "    print(\"Indexs of Second letter {} is/are {}: \".format(ch2,idxCh2))\n",
        "    return findidxDiff(idxCh1,idxCh2) \n",
        "\n",
        "# first_before_second('a rabbit jumps joyfully', 'a', 'j')\n",
        "# Indexs of first letter a is/are [0, 3]: \n",
        "# Indexs of Second letter j is/are [9, 15]: \n",
        "# True"
      ],
      "metadata": {
        "id": "wDlb_X8aadKa"
      },
      "execution_count": 3,
      "outputs": []
    },
    {
      "cell_type": "markdown",
      "source": [
        "Q 3. Create a function that returns the characters from a list or string r on odd or even positions, depending on the specifier s. The specifier will be \"odd\" for items on odd positions (1, 3, 5, ...) and \"even\" for items on even positions (2, 4, 6, ...).\n",
        "\n",
        "Examples\n",
        "\n",
        "char_at_pos([2, 4, 6, 8, 10], \"even\") ➞ [4, 8]\n",
        "# 4 & 8 occupy the 2nd & 4th positions\n",
        "\n",
        "char_at_pos(\"EDABIT\", \"odd\") ➞ \"EAI\"\n",
        "# \"E\", \"A\" and \"I\" occupy the 1st, 3rd and 5th positions\n",
        "\n",
        "char_at_pos([\"A\", \"R\", \"B\", \"I\", \"T\", \"R\", \"A\", \"R\", \"I\", \"L\", \"Y\"], \"odd\") ➞ [\"A\", \"B\", \"T\", \"A\", \"I\", \"Y\"]\n"
      ],
      "metadata": {
        "id": "8xsDAwk9a_7j"
      }
    },
    {
      "cell_type": "code",
      "source": [
        "def char_at_pos(data,specifier):\n",
        "\n",
        "    resultlist = []\n",
        "    if specifier == 'odd':\n",
        "        for i in range(len(data)):\n",
        "            i = i+1\n",
        "            if i % 2 != 0 :\n",
        "                resultlist.append(data[i-1])\n",
        "    elif specifier == 'even':\n",
        "        for i in range(len(data)):\n",
        "            i = i+1\n",
        "            if i % 2 == 0 :\n",
        "                resultlist.append(data[i-1])\n",
        "\n",
        "    if type(data) == str:\n",
        "        return ''.join(resultlist)\n",
        "    else:\n",
        "        return resultlist\n",
        "    \n",
        "# o?p:-\n",
        "# char_at_pos([2, 4, 6, 8, 10], 'even')\n",
        "# [4, 8]\n",
        "# char_at_pos('EDABIT', 'odd')\n",
        "# 'EAI'\n",
        "# char_at_pos(['A', 'R', 'B', 'I', 'T', 'R', 'A', 'R', 'I', 'L', 'Y'], 'odd')\n",
        "# ['A', 'B', 'T', 'A', 'I', 'Y']"
      ],
      "metadata": {
        "id": "nB21veJxbIp2"
      },
      "execution_count": 6,
      "outputs": []
    },
    {
      "cell_type": "markdown",
      "source": [
        "Q 4. Write a function that returns the greatest common divisor of all list elements. If the greatest common divisor is 1, return 1.\n",
        "\n",
        "Examples\n",
        "\n",
        "GCD([10, 20, 40]) ➞ 10\n",
        "\n",
        "GCD([1, 2, 3, 100]) ➞ 1\n",
        "\n",
        "GCD([1024, 192, 2048, 512]) ➞ 64"
      ],
      "metadata": {
        "id": "uvfLd466b4Au"
      }
    },
    {
      "cell_type": "code",
      "source": [
        "def find_gcd(x, y):\n",
        "    while(y):\n",
        "        x, y = y, x % y  \n",
        "    return x      \n",
        "      \n",
        "def GCD(data):\n",
        "    \n",
        "    num1=data[0]\n",
        "    num2=data[1]\n",
        "    gcd=find_gcd(num1,num2)\n",
        "\n",
        "    for i in range(2,len(data)):\n",
        "        gcd=find_gcd(gcd,data[i])\n",
        "\n",
        "    return gcd\n",
        "\n",
        "# O/p:-\n",
        "# GCD([10, 20, 40]) \n",
        "# 10\n",
        "# GCD([1, 2, 3, 100])\n",
        "# 1\n",
        "# GCD([1024, 192, 2048, 512])\n",
        "# 64"
      ],
      "metadata": {
        "id": "riP3zs59cCV7"
      },
      "execution_count": 9,
      "outputs": []
    },
    {
      "cell_type": "markdown",
      "source": [
        "A number/string is a palindrome if the digits/characters are the same when read both forward and backward. Examples include \"racecar\" and 12321. Given a positive number n, check if n or the binary representation of n is palindromic. Return the following:\n",
        "\n",
        "- \"Decimal only.\" if only n is a palindrome.\n",
        "- \"Binary only.\" if only the binary representation of n is a palindrome.\n",
        "- \"Decimal and binary.\" if both are palindromes.\n",
        "- \"Neither!\" if neither are palindromes.\n",
        "\n",
        "Examples\n",
        "\n",
        "palindrome_type(1306031) ➞ \"Decimal only.\"\n",
        "# decimal = 1306031\n",
        "# binary  = \"100111110110110101111\"\n",
        "\n",
        "palindrome_type(427787) ➞ \"Binary only.\"\n",
        "# decimal = 427787\n",
        "# binary  = \"1101000011100001011\"\n",
        "\n",
        "palindrome_type(313) ➞ \"Decimal and binary.\"\n",
        "# decimal = 313\n",
        "# binary  = 100111001\n",
        "\n",
        "palindrome_type(934) ➞ \"Neither!\"\n",
        "# decimal = 934\n",
        "# binary  = \"1110100110\"\n"
      ],
      "metadata": {
        "id": "0UclMjU6cUmL"
      }
    },
    {
      "cell_type": "code",
      "source": [
        "def is_symmetrical(num):\n",
        "    currentDigit = reversedDigit = 0\n",
        "    remainingNum = num\n",
        "    while(remainingNum != 0):\n",
        "\n",
        "        currentDigit = remainingNum % 10\n",
        "\n",
        "        reversedDigit = reversedDigit * 10 + currentDigit\n",
        "        remainingNum = remainingNum // 10\n",
        "\n",
        "    if reversedDigit == num:\n",
        "        print('Num {} is palindromic'.format(num))\n",
        "        return True\n",
        "    else:\n",
        "        print('Num {} is not palindromic'.format(num))\n",
        "        return False\n",
        "\n",
        "def palindrome_type(num):\n",
        "    \n",
        "    binNum = int(str(bin(num))[2::]) # change num to bin number\n",
        "    print(\"The number - \", num)\n",
        "    print(num,\" in binary\", binNum)\n",
        "    decCheck = is_symmetrical(num)\n",
        "    binCheck = is_symmetrical(binNum)\n",
        "    msg = ''\n",
        "    if decCheck and binCheck:\n",
        "        msg = 'Decimal and binary.'\n",
        "    elif decCheck and not binCheck:\n",
        "        msg = 'Decimal only.'\n",
        "    elif not decCheck and binCheck:\n",
        "        msg = 'Binary only.'\n",
        "    else:\n",
        "        msg = 'Neither!'\n",
        "\n",
        "    return msg\n",
        "# O/p:-\n",
        "\n",
        "# palindrome_type(1306031)\n",
        "# The number -  1306031\n",
        "# 1306031  in binary 100111110110110101111\n",
        "# Num 1306031 is palindromic\n",
        "# Num 100111110110110101111 is not palindromic\n",
        "# 'Decimal only.'\n",
        "# palindrome_type(427787)\n",
        " \n",
        "# The number -  427787\n",
        "# 427787  in binary 1101000011100001011\n",
        "# Num 427787 is not palindromic\n",
        "# Num 1101000011100001011 is palindromic\n",
        "# 'Binary only.'\n",
        "# palindrome_type(313)\n",
        "# The number -  313\n",
        "# 313  in binary 100111001\n",
        "# Num 313 is palindromic\n",
        "# Num 100111001 is palindromic\n",
        "# 'Decimal and binary.'\n",
        "# palindrome_type(934)\n",
        "# The number -  934\n",
        "# 934  in binary 1110100110\n",
        "# Num 934 is not palindromic\n",
        "# Num 1110100110 is not palindromic\n",
        "# 'Neither!'"
      ],
      "metadata": {
        "id": "D8RFtfAbcYkz"
      },
      "execution_count": 10,
      "outputs": []
    }
  ]
}