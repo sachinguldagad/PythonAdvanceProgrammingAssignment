{
 "cells": [
  {
   "cell_type": "markdown",
   "id": "cd90b56e",
   "metadata": {},
   "source": [
    "# 1. For this challenge, forget how to add two numbers together. The best explanation on what to do for this function is this meme:\n",
    "Examples\n",
    "meme_sum(26, 39) ➞ 515\n",
    "# 2+3 = 5, 6+9 = 15\n",
    "# 26 + 39 = 515\n",
    "meme_sum(122, 81) ➞ 1103\n",
    "# 1+0 = 1, 2+8 = 10, 2+1 = 3\n",
    "# 122 + 81 = 1103\n",
    "meme_sum(1222, 30277) ➞ 31499"
   ]
  },
  {
   "cell_type": "code",
   "execution_count": 13,
   "id": "a04c9838",
   "metadata": {},
   "outputs": [],
   "source": [
    "def appendZero(n1,n2):\n",
    "    \n",
    "    if len(n1) == len(n2):\n",
    "        pass\n",
    "    elif len(n1) > len(n2):\n",
    "        dif = len(n1) - len(n2)\n",
    "        zero = '0'*dif\n",
    "        n2 = zero+n2    \n",
    "    else:\n",
    "        dif = len(n2) - len(n1)\n",
    "        zero = '0'*dif\n",
    "        n1 = zero+n1\n",
    "\n",
    "    return n1,n2   \n",
    "\n",
    "\n",
    "def meme_sum(n1,n2):   \n",
    "\n",
    "    n1,n2 = appendZero(str(n1),str(n2))\n",
    "\n",
    "    cnt = 0\n",
    "    i = 0\n",
    "    sum = 0\n",
    "    sumtotal = ''\n",
    "    while cnt < len(n1):\n",
    "        sum = int(n1[i]) + int(n2[i])\n",
    "        sumtotal = sumtotal + str(sum)\n",
    "        i += 1\n",
    "        sum = 0\n",
    "        cnt += 1\n",
    "    return int(sumtotal) "
   ]
  },
  {
   "cell_type": "code",
   "execution_count": 14,
   "id": "23977af9",
   "metadata": {},
   "outputs": [
    {
     "data": {
      "text/plain": [
       "31499"
      ]
     },
     "execution_count": 14,
     "metadata": {},
     "output_type": "execute_result"
    }
   ],
   "source": [
    "meme_sum(1222, 30277)"
   ]
  },
  {
   "cell_type": "markdown",
   "id": "59a670cc",
   "metadata": {},
   "source": [
    "# 2. Given an integer, create a function that returns the next prime. If the number is prime, return the number itself.\n",
    "\n",
    "Examples\n",
    "\n",
    "next_prime(12) ➞ 13\n",
    "\n",
    "next_prime(24) ➞ 29\n",
    "\n",
    "next_prime(11) ➞ 11\n",
    "# 11 is a prime, so we return the number itself.\n"
   ]
  },
  {
   "cell_type": "code",
   "execution_count": 25,
   "id": "805135b3",
   "metadata": {},
   "outputs": [],
   "source": [
    "def next_prime(number):\n",
    "    flag2=0\n",
    "    for i in range(2,number//2):\n",
    "        if number%i==0:\n",
    "            flag2=1\n",
    "            break\n",
    "    if flag2!=1:\n",
    "        return True\n",
    "def caller(number):\n",
    "    flag=0\n",
    "    while(flag!=1):\n",
    "        if next_prime(number) is True:\n",
    "            flag=1\n",
    "            print(number)\n",
    "        number+=1"
   ]
  },
  {
   "cell_type": "code",
   "execution_count": 26,
   "id": "88c36385",
   "metadata": {},
   "outputs": [
    {
     "name": "stdout",
     "output_type": "stream",
     "text": [
      "11\n"
     ]
    }
   ],
   "source": [
    "caller(11)"
   ]
  },
  {
   "cell_type": "code",
   "execution_count": 27,
   "id": "9ba663f9",
   "metadata": {},
   "outputs": [
    {
     "name": "stdout",
     "output_type": "stream",
     "text": [
      "29\n"
     ]
    }
   ],
   "source": [
    "caller(24)"
   ]
  },
  {
   "cell_type": "code",
   "execution_count": 28,
   "id": "d71873a3",
   "metadata": {},
   "outputs": [
    {
     "name": "stdout",
     "output_type": "stream",
     "text": [
      "13\n"
     ]
    }
   ],
   "source": [
    "caller(12) "
   ]
  },
  {
   "cell_type": "markdown",
   "id": "b57a4df8",
   "metadata": {},
   "source": [
    "# 3. If a person traveled up a hill for 18mins at 20mph and then traveled back down the same path at 60mph then their average speed traveled was 30mph.\n",
    "\n",
    "Write a function that returns the average speed traveled given an uphill time, uphill rate and a downhill rate. Uphill time is given in minutes. Return the rate as an integer (mph). No rounding is necessary.\n",
    "\n",
    "Examples\n",
    "\n",
    "ave_spd(18, 20, 60) ➞ 30\n",
    "\n",
    "ave_spd(30, 10, 30) ➞ 15\n",
    "\n",
    "ave_spd(30, 8, 24) ➞ 12\n"
   ]
  },
  {
   "cell_type": "code",
   "execution_count": 38,
   "id": "f2b24ce4",
   "metadata": {},
   "outputs": [
    {
     "name": "stdout",
     "output_type": "stream",
     "text": [
      "12\n"
     ]
    }
   ],
   "source": [
    "ave_spd(30, 8, 24)"
   ]
  },
  {
   "cell_type": "code",
   "execution_count": 37,
   "id": "7e606128",
   "metadata": {},
   "outputs": [
    {
     "name": "stdout",
     "output_type": "stream",
     "text": [
      "15\n"
     ]
    }
   ],
   "source": [
    "ave_spd(30, 10, 30)"
   ]
  },
  {
   "cell_type": "code",
   "execution_count": 35,
   "id": "c199fc53",
   "metadata": {},
   "outputs": [],
   "source": [
    "def ave_spd(time,c,r):\n",
    "    time_in_hour=time/60\n",
    "    distance=c*time_in_hour\n",
    "    time_return_in_hour=distance/r\n",
    "    tt=(time_in_hour+time_return_in_hour)\n",
    "    speed=int((2*distance)/tt)\n",
    "    print(speed)"
   ]
  },
  {
   "cell_type": "code",
   "execution_count": 36,
   "id": "86d1e314",
   "metadata": {},
   "outputs": [
    {
     "name": "stdout",
     "output_type": "stream",
     "text": [
      "30\n"
     ]
    }
   ],
   "source": [
    "ave_spd(18, 20, 60)"
   ]
  },
  {
   "cell_type": "markdown",
   "id": "0c6dc077",
   "metadata": {},
   "source": [
    "# 4. The Kempner Function, applied to a composite number, permits to find the smallest integer greater than zero whose factorial is exactly divided by the number.\n",
    "\n",
    "kempner(6) ➞ 3\n",
    "\n",
    "1! = 1 % 6 > 0\n",
    "2! = 2 % 6 > 0\n",
    "3! = 6 % 6 === 0\n",
    "\n",
    "kempner(10) ➞ 5\n",
    "\n",
    "1! = 1 % 10 > 0\n",
    "2! = 2 % 10 > 0\n",
    "3! = 6 % 10 > 0\n",
    "4! = 24 % 10 > 0\n",
    "5! = 120 % 10 === 0\n",
    "\n",
    "A Kempner Function applied to a prime will always return the prime itself.\n",
    "\n",
    "kempner(2) ➞ 2\n",
    "kempner(5) ➞ 5\n",
    "\n",
    "Given an integer n, implement a Kempner Function.\n",
    "\n",
    "Examples\n",
    "\n",
    "kempner(6) ➞ 3\n",
    "\n",
    "kempner(10) ➞ 5\n",
    "\n",
    "kempner(2) ➞ 2\n",
    "\n"
   ]
  },
  {
   "cell_type": "code",
   "execution_count": 14,
   "id": "57c5ba29",
   "metadata": {},
   "outputs": [],
   "source": [
    "def kempner(number):\n",
    "    print(\"Number:\",number)\n",
    "    for i in range(1,number+1):\n",
    "        fact=factorial(i)\n",
    "        print(\"Factorial:\",fact)\n",
    "        if fact%number==0:\n",
    "            print(\"Final Answer: \",i)\n",
    "            break\n",
    "def factorial(x):\n",
    "    \"\"\"This is a recursive function\n",
    "    to find the factorial of an integer\"\"\"\n",
    "\n",
    "    if x == 1:\n",
    "        return 1\n",
    "    else:\n",
    "        # recursive call to the function\n",
    "        return (x * factorial(x-1))"
   ]
  },
  {
   "cell_type": "code",
   "execution_count": 15,
   "id": "997e9b58",
   "metadata": {},
   "outputs": [
    {
     "name": "stdout",
     "output_type": "stream",
     "text": [
      "Number: 10\n",
      "Factorial: 1\n",
      "Factorial: 2\n",
      "Factorial: 6\n",
      "Factorial: 24\n",
      "Factorial: 120\n",
      "Final Answer:  5\n"
     ]
    }
   ],
   "source": [
    "kempner(10)"
   ]
  },
  {
   "cell_type": "code",
   "execution_count": 16,
   "id": "1efc32b7",
   "metadata": {},
   "outputs": [
    {
     "name": "stdout",
     "output_type": "stream",
     "text": [
      "Number: 6\n",
      "Factorial: 1\n",
      "Factorial: 2\n",
      "Factorial: 6\n",
      "Final Answer:  3\n"
     ]
    }
   ],
   "source": [
    "kempner(6)"
   ]
  },
  {
   "cell_type": "code",
   "execution_count": 17,
   "id": "a3c7a978",
   "metadata": {},
   "outputs": [
    {
     "name": "stdout",
     "output_type": "stream",
     "text": [
      "Number: 5\n",
      "Factorial: 1\n",
      "Factorial: 2\n",
      "Factorial: 6\n",
      "Factorial: 24\n",
      "Factorial: 120\n",
      "Final Answer:  5\n"
     ]
    }
   ],
   "source": [
    "kempner(5)"
   ]
  },
  {
   "cell_type": "markdown",
   "id": "ff029c9a",
   "metadata": {},
   "source": [
    "# 5. You work in a factory, and your job is to take items from a conveyor belt and pack them into boxes. Each box can hold a maximum of 10 kgs. Given a list containing the weight (in kg) of each item, how many boxes would you need to pack all of the items?\n",
    "\n",
    "Example\n",
    "\n",
    "boxes([2, 1, 2, 5, 4, 3, 6, 1, 1, 9, 3, 2]) ➞ 5\n",
    "\n",
    "# Box 1 = [2, 1, 2, 5] (10kg)\n",
    "# Box 2 = [4, 3] (7kg)\n",
    "# Box 3 = [6, 1, 1] (8kg)\n",
    "# Box 4 = [9] (9kg)\n",
    "# Box 5 = [3, 2] (5kg)\n"
   ]
  },
  {
   "cell_type": "code",
   "execution_count": 18,
   "id": "d4302ff3",
   "metadata": {},
   "outputs": [],
   "source": [
    "def boxes(q):\n",
    "    l = len(q)\n",
    "    i = 0\n",
    "    a = []\n",
    "    box=[]\n",
    "    while l :\n",
    "        if sum(a)  <=  10 :\n",
    "            a.append(q[i])\n",
    "            i = i + 1\n",
    "            l = l - 1   \n",
    "        elif sum(a) > 10:\n",
    "            box.append(a[:-1:])\n",
    "            i = i - 1\n",
    "            l = l + 1\n",
    "            a.clear()\n",
    "    box.append(a)\n",
    "\n",
    "    print(\"We need {} boxes\".format(len(box)))\n",
    "    for i in range(len(box)):\n",
    "        print(\"Box{} has {}, and {}kgs\".format(i+1,box[i],sum(box[i])))"
   ]
  },
  {
   "cell_type": "code",
   "execution_count": 19,
   "id": "af359e42",
   "metadata": {},
   "outputs": [
    {
     "name": "stdout",
     "output_type": "stream",
     "text": [
      "We need 5 boxes\n",
      "Box1 has [2, 1, 2, 5], and 10kgs\n",
      "Box2 has [4, 3], and 7kgs\n",
      "Box3 has [6, 1, 1], and 8kgs\n",
      "Box4 has [9], and 9kgs\n",
      "Box5 has [3, 2], and 5kgs\n"
     ]
    }
   ],
   "source": [
    "boxes([2, 1, 2, 5, 4, 3, 6, 1, 1, 9, 3, 2])"
   ]
  },
  {
   "cell_type": "code",
   "execution_count": null,
   "id": "400a28f0",
   "metadata": {},
   "outputs": [],
   "source": []
  }
 ],
 "metadata": {
  "kernelspec": {
   "display_name": "Python 3 (ipykernel)",
   "language": "python",
   "name": "python3"
  },
  "language_info": {
   "codemirror_mode": {
    "name": "ipython",
    "version": 3
   },
   "file_extension": ".py",
   "mimetype": "text/x-python",
   "name": "python",
   "nbconvert_exporter": "python",
   "pygments_lexer": "ipython3",
   "version": "3.9.7"
  }
 },
 "nbformat": 4,
 "nbformat_minor": 5
}
