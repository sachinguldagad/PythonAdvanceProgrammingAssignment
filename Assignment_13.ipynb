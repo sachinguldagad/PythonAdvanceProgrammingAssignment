{
 "cells": [
  {
   "cell_type": "markdown",
   "id": "2d41b853",
   "metadata": {},
   "source": [
    "# 1. Create a function that takes a list and string. The function should remove the letters in the string from the list, and return the list.\n",
    "\n",
    "Examples\n",
    "\n",
    "remove_letters([\"s\", \"t\", \"r\", \"i\", \"n\", \"g\", \"w\"], \"string\") ➞ [\"w\"]\n",
    "\n",
    "remove_letters([\"b\", \"b\", \"l\", \"l\", \"g\", \"n\", \"o\", \"a\", \"w\"], \"balloon\") ➞ [\"b\", \"g\", \"w\"]\n",
    "\n",
    "remove_letters([\"d\", \"b\", \"t\", \"e\", \"a\", \"i\"], \"edabit\") ➞ []"
   ]
  },
  {
   "cell_type": "code",
   "execution_count": 1,
   "id": "0f1d077e",
   "metadata": {},
   "outputs": [],
   "source": [
    "def remove_letters(list1,word):\n",
    "    list2=[]\n",
    "    for i in list1:\n",
    "        if i not in word:\n",
    "            list2.append(i)\n",
    "    print(list2)"
   ]
  },
  {
   "cell_type": "code",
   "execution_count": 2,
   "id": "645b8d8e",
   "metadata": {},
   "outputs": [
    {
     "name": "stdout",
     "output_type": "stream",
     "text": [
      "[]\n"
     ]
    }
   ],
   "source": [
    "remove_letters([\"d\", \"b\", \"t\", \"e\", \"a\", \"i\"], \"edabit\")"
   ]
  },
  {
   "cell_type": "code",
   "execution_count": 3,
   "id": "acc3ed69",
   "metadata": {},
   "outputs": [
    {
     "name": "stdout",
     "output_type": "stream",
     "text": [
      "['g', 'w']\n"
     ]
    }
   ],
   "source": [
    "remove_letters([\"b\", \"b\", \"l\", \"l\", \"g\", \"n\", \"o\", \"a\", \"w\"], \"balloon\") "
   ]
  },
  {
   "cell_type": "code",
   "execution_count": 4,
   "id": "653c554e",
   "metadata": {},
   "outputs": [
    {
     "name": "stdout",
     "output_type": "stream",
     "text": [
      "['w']\n"
     ]
    }
   ],
   "source": [
    "remove_letters([\"s\", \"t\", \"r\", \"i\", \"n\", \"g\", \"w\"], \"string\")"
   ]
  },
  {
   "cell_type": "markdown",
   "id": "55c2a860",
   "metadata": {},
   "source": [
    "# 2. A block sequence in three dimensions. We can write a formula for this one:\n",
    "\n",
    "\n",
    "\n",
    "\n",
    "\n",
    "\n",
    "\n",
    "\n",
    "\n",
    "\n",
    "Create a function that takes a number (step) as an argument and returns the amount of blocks in that step.\n",
    "\n",
    "Examples\n",
    "\n",
    "blocks(1) ➞ 5\n",
    "\n",
    "blocks(5) ➞ 39\n",
    "\n",
    "blocks(2) ➞ 12\n",
    "\n"
   ]
  },
  {
   "cell_type": "code",
   "execution_count": 5,
   "id": "159aa6b0",
   "metadata": {},
   "outputs": [],
   "source": [
    "def blocks(l):\n",
    "    a=5\n",
    "    b=7\n",
    "    if(l==1):\n",
    "        return a\n",
    "    else:\n",
    "        for i in range (1,l):\n",
    "            a=a+b\n",
    "            b=b+1\n",
    "        return a"
   ]
  },
  {
   "cell_type": "code",
   "execution_count": 6,
   "id": "41513944",
   "metadata": {},
   "outputs": [
    {
     "data": {
      "text/plain": [
       "39"
      ]
     },
     "execution_count": 6,
     "metadata": {},
     "output_type": "execute_result"
    }
   ],
   "source": [
    "blocks(5)"
   ]
  },
  {
   "cell_type": "code",
   "execution_count": 7,
   "id": "d37e41d8",
   "metadata": {},
   "outputs": [
    {
     "data": {
      "text/plain": [
       "12"
      ]
     },
     "execution_count": 7,
     "metadata": {},
     "output_type": "execute_result"
    }
   ],
   "source": [
    "blocks(2)"
   ]
  },
  {
   "cell_type": "code",
   "execution_count": 8,
   "id": "ee7e2713",
   "metadata": {},
   "outputs": [
    {
     "data": {
      "text/plain": [
       "5"
      ]
     },
     "execution_count": 8,
     "metadata": {},
     "output_type": "execute_result"
    }
   ],
   "source": [
    "blocks(1)"
   ]
  },
  {
   "cell_type": "markdown",
   "id": "87ec3fce",
   "metadata": {},
   "source": [
    "# 3. Create a function that subtracts one positive integer from another, without using any arithmetic operators such as -, %, /, +, etc.\n",
    "\n",
    "Examples\n",
    "\n",
    "my_sub(5, 9) ➞ 4\n",
    "\n",
    "my_sub(10, 30) ➞ 20\n",
    "\n",
    "my_sub(0, 0) ➞ 0\n",
    "\n"
   ]
  },
  {
   "cell_type": "code",
   "execution_count": 10,
   "id": "98c3aa8c",
   "metadata": {},
   "outputs": [],
   "source": [
    "def my_sub(a,b):\n",
    "    n=[1 for i in range(a)]\n",
    "    m=[1 for i in range(b)]\n",
    "    for item in n:\n",
    "        if item in m:\n",
    "            m.remove(item)\n",
    "    return sum(m)"
   ]
  },
  {
   "cell_type": "code",
   "execution_count": 11,
   "id": "00956156",
   "metadata": {},
   "outputs": [
    {
     "data": {
      "text/plain": [
       "20"
      ]
     },
     "execution_count": 11,
     "metadata": {},
     "output_type": "execute_result"
    }
   ],
   "source": [
    "my_sub(10, 30)"
   ]
  },
  {
   "cell_type": "code",
   "execution_count": 12,
   "id": "106c82b4",
   "metadata": {},
   "outputs": [
    {
     "data": {
      "text/plain": [
       "4"
      ]
     },
     "execution_count": 12,
     "metadata": {},
     "output_type": "execute_result"
    }
   ],
   "source": [
    "my_sub(5, 9)"
   ]
  },
  {
   "cell_type": "markdown",
   "id": "2ef374f0",
   "metadata": {},
   "source": [
    "# 4. Create a function that takes a string containing money in dollars and pounds sterling (seperated by comma) and returns the sum of dollar bills only, as an integer.\n",
    "\n",
    "For the input string:\n",
    "\n",
    "   - Each amount is prefixed by the currency symbol: $ for dollars and £ for pounds.\n",
    "   - Thousands are represented by the suffix k.\n",
    "\n",
    "i.e. $4k = $4,000 and £40k = £40,000\n",
    "\n",
    "Examples\n",
    "\n",
    "add_bill(\"d20,p40,p60,d50\") ➞ 20 + 50 = 70\n",
    "\n",
    "add_bill(\"p30,d20,p60,d150,p360\") ➞ 20  + 150 = 170\n",
    "\n",
    "add_bill(\"p30,d2k,p60,d200,p360\") ➞ 2 * 1000 + 200 = 2200\n",
    "\n"
   ]
  },
  {
   "cell_type": "code",
   "execution_count": 26,
   "id": "c17cfd38",
   "metadata": {},
   "outputs": [],
   "source": [
    "def add_bill(string1):\n",
    "    n=[]\n",
    "    list1=list(string1.split(\",\"))\n",
    "    print(list1)\n",
    "    list1=[i[1:] for i in list1 if i[0]==\"d\"]\n",
    "    print(list1)\n",
    "    for i in list1:\n",
    "        if \"k\" in i:\n",
    "            i=i[:-1]\n",
    "            i=int(i)*1000\n",
    "            n.append(i)\n",
    "        else:\n",
    "            n.append(int(i))\n",
    "    return sum(n)"
   ]
  },
  {
   "cell_type": "code",
   "execution_count": 27,
   "id": "f5c3e569",
   "metadata": {},
   "outputs": [
    {
     "name": "stdout",
     "output_type": "stream",
     "text": [
      "['p30', 'd2k', 'p60', 'd200', 'p360']\n",
      "['2k', '200']\n"
     ]
    },
    {
     "data": {
      "text/plain": [
       "2200"
      ]
     },
     "execution_count": 27,
     "metadata": {},
     "output_type": "execute_result"
    }
   ],
   "source": [
    "add_bill(\"p30,d2k,p60,d200,p360\")"
   ]
  },
  {
   "cell_type": "code",
   "execution_count": 28,
   "id": "fbb0f6c7",
   "metadata": {},
   "outputs": [
    {
     "name": "stdout",
     "output_type": "stream",
     "text": [
      "['p30', 'd20', 'p60', 'd150', 'p360']\n",
      "['20', '150']\n"
     ]
    },
    {
     "data": {
      "text/plain": [
       "170"
      ]
     },
     "execution_count": 28,
     "metadata": {},
     "output_type": "execute_result"
    }
   ],
   "source": [
    "add_bill(\"p30,d20,p60,d150,p360\")"
   ]
  },
  {
   "cell_type": "markdown",
   "id": "d24512a0",
   "metadata": {},
   "source": [
    "# 5. Create a function that flips a horizontal list into a vertical list, and a vertical list into a horizontal list.\n",
    "\n",
    "In other words, take an 1 x n list (1 row + n columns) and flip it into a n x 1 list (n rows and 1 column), and vice versa.\n",
    "\n",
    "Examples\n",
    "\n",
    "flip_list([1, 2, 3, 4]) ➞ [[1], [2], [3], [4]]\n",
    "# Take a horizontal list and flip it vertical.\n",
    "\n",
    "flip_list([[5], [6], [9]]) ➞ [5, 6, 9]\n",
    "# Take a vertical list and flip it horizontal.\n",
    "\n",
    "flip_list([]) ➞ []\n",
    "\n",
    "\n"
   ]
  },
  {
   "cell_type": "code",
   "execution_count": 29,
   "id": "6059c00d",
   "metadata": {},
   "outputs": [],
   "source": [
    "def flip_list(l):\n",
    "    y = []\n",
    "    for i in l:\n",
    "        if type(i)!= list:\n",
    "            listA = [str(i)]\n",
    "            for elem in listA:\n",
    "               t = elem.split(', ')\n",
    "               y.append((t))\n",
    "        else:\n",
    "            y.append(i[0])\n",
    "    return y"
   ]
  },
  {
   "cell_type": "code",
   "execution_count": 30,
   "id": "735d467c",
   "metadata": {},
   "outputs": [
    {
     "data": {
      "text/plain": [
       "[5, 6, 9]"
      ]
     },
     "execution_count": 30,
     "metadata": {},
     "output_type": "execute_result"
    }
   ],
   "source": [
    "flip_list([[5], [6], [9]])"
   ]
  },
  {
   "cell_type": "code",
   "execution_count": 31,
   "id": "63876751",
   "metadata": {},
   "outputs": [
    {
     "data": {
      "text/plain": [
       "[['1'], ['2'], ['3'], ['4']]"
      ]
     },
     "execution_count": 31,
     "metadata": {},
     "output_type": "execute_result"
    }
   ],
   "source": [
    "flip_list([1, 2, 3, 4])"
   ]
  }
 ],
 "metadata": {
  "kernelspec": {
   "display_name": "Python 3 (ipykernel)",
   "language": "python",
   "name": "python3"
  },
  "language_info": {
   "codemirror_mode": {
    "name": "ipython",
    "version": 3
   },
   "file_extension": ".py",
   "mimetype": "text/x-python",
   "name": "python",
   "nbconvert_exporter": "python",
   "pygments_lexer": "ipython3",
   "version": "3.9.7"
  }
 },
 "nbformat": 4,
 "nbformat_minor": 5
}
